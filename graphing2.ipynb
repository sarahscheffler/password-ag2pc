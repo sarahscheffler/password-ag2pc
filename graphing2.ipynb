{
 "cells": [
  {
   "cell_type": "code",
   "execution_count": 21,
   "metadata": {
    "code_folding": [
     0
    ]
   },
   "outputs": [],
   "source": [
    "#Imports\n",
    "%matplotlib inline\n",
    "import numpy as np\n",
    "import re\n",
    "from collections import defaultdict\n",
    "import matplotlib\n",
    "import matplotlib.pyplot as plt\n"
   ]
  },
  {
   "cell_type": "code",
   "execution_count": 22,
   "metadata": {
    "code_folding": []
   },
   "outputs": [],
   "source": [
    "def parse_line(line):\n",
    "    m = re.match(\"^pbkdf2-sha256/pbkdf2-sha256-(.+)\\.txt:(ALICE|BOB):(OTS|FIPP|FDPP|SG|INP|ON|OUT):(\\d+|\\d\\.\\d+e\\+\\d+)\\n\",\n",
    "            line)\n",
    "    if m == None:\n",
    "        print(line)\n",
    "    size = int(float(m.group(1)))\n",
    "    party = m.group(2)\n",
    "    fpart = m.group(3)\n",
    "    if \"e\" in m.group(4):\n",
    "        time = int(float(m.group(4)))\n",
    "    else:\n",
    "        time = int(m.group(4))\n",
    "    return (size, party, fpart, time)"
   ]
  },
  {
   "cell_type": "code",
   "execution_count": 27,
   "metadata": {
    "code_folding": []
   },
   "outputs": [],
   "source": [
    "#Write dictionary dt, means, stdevs\n",
    "dt = defaultdict(dict)\n",
    "filenames = [\"results/{:d}_{:#02d}_{:s}.txt\".format(sz, i, party) for i in range(1, 11) for party in\n",
    "        [\"ALICE\", \"BOB\"] for sz in [1, 10, 100]]\n",
    "for fn in filenames:\n",
    "    with open(fn, \"r\") as f:\n",
    "        for line in f:\n",
    "            (size, party, fpart, time) = parse_line(line)\n",
    "            if (size, party, fpart) in dt:\n",
    "                dt[(size, party, fpart)].append(time)\n",
    "            else:\n",
    "                dt[(size, party, fpart)] = [time]\n",
    "\n",
    "nonpw_alice_means = defaultdict(dict)\n",
    "nonpw_alice_stdevs = defaultdict(dict)\n",
    "pw_alice_means = defaultdict(dict)\n",
    "pw_alice_stdevs = defaultdict(dict)\n",
    "nonpw_bob_means = defaultdict(dict)\n",
    "nonpw_bob_stdevs = defaultdict(dict)\n",
    "pw_bob_means = defaultdict(dict)\n",
    "pw_bob_stdevs = defaultdict(dict)\n",
    "for size in [1, 10, 100]:\n",
    "    NONPW = [\"OTS\", \"FIPP\", \"FDPP\", \"ON\"]\n",
    "    PW = [\"SG\", \"INP\", \"OUT\"]\n",
    "    nonpw_alice_means[size] = np.average([sum(l) for l in zip(*[dt[(size, \"ALICE\", fp)] for fp in NONPW])])\n",
    "    nonpw_alice_stdevs[size] = np.std([sum(l) for l in zip(*[dt[(size, \"ALICE\", fp)] for fp in NONPW])])\n",
    "    pw_alice_means[size] = np.average([sum(l) for l in zip(*[dt[(size, \"ALICE\", fp)] for fp in PW])])\n",
    "    pw_alice_stdevs[size] = np.std([sum(l) for l in zip(*[dt[(size, \"ALICE\", fp)] for fp in PW])])\n",
    "    nonpw_bob_means[size] = np.average([sum(l) for l in zip(*[dt[(size, \"BOB\", fp)] for fp in NONPW])])\n",
    "    nonpw_bob_stdevs[size] = np.std([sum(l) for l in zip(*[dt[(size, \"BOB\", fp)] for fp in NONPW])])\n",
    "    pw_bob_means[size] = np.average([sum(l) for l in zip(*[dt[(size, \"BOB\", fp)] for fp in PW])])\n",
    "    pw_bob_stdevs[size] = np.std([sum(l) for l in zip(*[dt[(size, \"BOB\", fp)] for fp in PW])])\n"
   ]
  },
  {
   "cell_type": "code",
   "execution_count": 28,
   "metadata": {},
   "outputs": [
    {
     "data": {
      "image/png": "[encoded data removed]",
      "text/plain": [
       "<Figure size 432x288 with 1 Axes>"
      ]
     },
     "metadata": {
      "needs_background": "light"
     },
     "output_type": "display_data"
    }
   ],
   "source": [
    "fig = plt.figure()\n",
    "ax = fig.add_subplot(1,1,1)\n",
    "x = [1, 10, 100]\n",
    "plt.errorbar(x, [nonpw_alice_means[sz] for sz in x], yerr=[nonpw_alice_stdevs[sz] for sz in x], \n",
    "             label='non-modification cost (Alice)')\n",
    "plt.errorbar(x, [pw_alice_means[sz] for sz in x], yerr=[pw_alice_stdevs[sz] for sz in x], \n",
    "             label='modification cost (Alice)')\n",
    "plt.errorbar(x, [nonpw_bob_means[sz] for sz in x], yerr=[nonpw_bob_stdevs[sz] for sz in x], \n",
    "             label='non-modification cost (Bob)')\n",
    "plt.errorbar(x, [pw_bob_means[sz] for sz in x], yerr=[pw_bob_stdevs[sz] for sz in x], \n",
    "             label='modification cost (Bob)')\n",
    "ax.legend()\n",
    "plt.show()"
   ]
  },
  {
   "cell_type": "code",
   "execution_count": 36,
   "metadata": {},
   "outputs": [
    {
     "name": "stdout",
     "output_type": "stream",
     "text": [
      "defaultdict(<class 'dict'>, {1: 389.8602, 10: 3084.3147000000004, 100: 33040.7402})\n",
      "defaultdict(<class 'dict'>, {1: 1161.4926, 10: 1673.246, 100: 2278.5095})\n",
      "defaultdict(<class 'dict'>, {1: 402.51590000000004, 10: 3194.8113, 100: 34106.1559})\n",
      "defaultdict(<class 'dict'>, {1: 1003.8154000000001, 10: 1417.17, 100: 1072.5995})\n",
      "defaultdict(<class 'dict'>, {1: 7.760078566612583, 10: 34.49999377985451, 100: 1089.104427792285})\n",
      "defaultdict(<class 'dict'>, {1: 14.01009194973395, 10: 15.738124945494619, 100: 175.85061847900906})\n",
      "defaultdict(<class 'dict'>, {1: 7.269978052924231, 10: 33.6305227317388, 100: 1126.5165023040229})\n",
      "defaultdict(<class 'dict'>, {1: 15.365810315111926, 10: 17.978620080528984, 100: 134.1363605054573})\n"
     ]
    },
    {
     "data": {
      "text/plain": [
       "1.1614926"
      ]
     },
     "execution_count": 36,
     "metadata": {},
     "output_type": "execute_result"
    }
   ],
   "source": [
    "for sz in [1, 10, 100]:\n",
    "    nonpw_alice_means[sz] = nonpw_alice_means[sz] / 1000\n",
    "    pw_alice_means[sz] = pw_alice_means[sz] / 1000\n",
    "    nonpw_bob_means[sz] = nonpw_bob_means[sz] / 1000\n",
    "    pw_bob_means[sz] = pw_bob_means[sz] / 1000\n",
    "    nonpw_alice_stdevs[sz] = nonpw_alice_stdevs[sz] / 1000\n",
    "    pw_alice_stdevs[sz] = pw_alice_stdevs[sz] / 1000\n",
    "    nonpw_bob_stdevs[sz] = nonpw_bob_stdevs[sz] / 1000\n",
    "    pw_bob_stdevs[sz] = pw_bob_stdevs[sz] / 1000\n",
    "\n",
    "print(nonpw_alice_means)\n",
    "print(pw_alice_means)\n",
    "print(nonpw_bob_means)\n",
    "print(pw_bob_means)\n",
    "\n",
    "print(nonpw_alice_stdevs)\n",
    "print(pw_alice_stdevs)\n",
    "print(nonpw_bob_stdevs)\n",
    "print(pw_bob_stdevs)\n",
    "\n",
    "1161492.6 / 1000000"
   ]
  },
  {
   "cell_type": "code",
   "execution_count": null,
   "metadata": {},
   "outputs": [],
   "source": []
  },
  {
   "cell_type": "code",
   "execution_count": null,
   "metadata": {},
   "outputs": [],
   "source": []
  }
 ],
 "metadata": {
  "kernelspec": {
   "display_name": "Python 3",
   "language": "python",
   "name": "python3"
  },
  "language_info": {
   "codemirror_mode": {
    "name": "ipython",
    "version": 3
   },
   "file_extension": ".py",
   "mimetype": "text/x-python",
   "name": "python",
   "nbconvert_exporter": "python",
   "pygments_lexer": "ipython3",
   "version": "3.7.7"
  }
 },
 "nbformat": 4,
 "nbformat_minor": 4
}
